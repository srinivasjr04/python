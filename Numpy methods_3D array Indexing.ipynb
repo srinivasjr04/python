{
 "cells": [
  {
   "cell_type": "code",
   "execution_count": 1,
   "metadata": {},
   "outputs": [],
   "source": [
    "import numpy as np"
   ]
  },
  {
   "cell_type": "markdown",
   "metadata": {},
   "source": [
    "### 1. numpy.linspace\n",
    "- numpy.linspace(start, stop, num, endpoint, retstep, dtype)"
   ]
  },
  {
   "cell_type": "code",
   "execution_count": 7,
   "metadata": {},
   "outputs": [
    {
     "name": "stdout",
     "output_type": "stream",
     "text": [
      "[10.  12.5 15.  17.5 20. ]\n"
     ]
    }
   ],
   "source": [
    "x = np.linspace(10,20,5)\n",
    "print(x)"
   ]
  },
  {
   "cell_type": "code",
   "execution_count": 8,
   "metadata": {},
   "outputs": [
    {
     "name": "stdout",
     "output_type": "stream",
     "text": [
      "(array([1. , 2.8, 4.6, 6.4, 8.2]), 1.8)\n"
     ]
    }
   ],
   "source": [
    "x = np.linspace(1,10, 5, endpoint = False, retstep = True) \n",
    "print(x)"
   ]
  },
  {
   "cell_type": "markdown",
   "metadata": {},
   "source": [
    "### 2.numpy.logspace\n",
    "- numpy.logspace(start, stop, num, endpoint, base, dtype)"
   ]
  },
  {
   "cell_type": "code",
   "execution_count": 6,
   "metadata": {},
   "outputs": [
    {
     "name": "stdout",
     "output_type": "stream",
     "text": [
      "[  2.          6.9644046  24.251465   84.44851   294.06677  ]\n"
     ]
    }
   ],
   "source": [
    "a = np.logspace(1,10,num = 5, base = 2, dtype = 'float32',endpoint=False)\n",
    "print(a)"
   ]
  },
  {
   "cell_type": "code",
   "execution_count": 7,
   "metadata": {},
   "outputs": [
    {
     "data": {
      "text/plain": [
       "(2,\n",
       " 6.964404506368992,\n",
       " 24.251465064166364,\n",
       " 84.44850628946526,\n",
       " 294.0667788792408)"
      ]
     },
     "execution_count": 7,
     "metadata": {},
     "output_type": "execute_result"
    }
   ],
   "source": [
    "2**1, 2**2.8, 2**4.6, 2**6.4, 2**8.2"
   ]
  },
  {
   "cell_type": "code",
   "execution_count": 8,
   "metadata": {},
   "outputs": [
    {
     "name": "stdout",
     "output_type": "stream",
     "text": [
      "(array([1, 3, 5, 7, 9]), 2.0)\n"
     ]
    }
   ],
   "source": [
    "x = np.linspace(1,9, 5, endpoint = True, dtype = int , retstep = True) \n",
    "print(x)"
   ]
  },
  {
   "cell_type": "code",
   "execution_count": 9,
   "metadata": {},
   "outputs": [
    {
     "name": "stdout",
     "output_type": "stream",
     "text": [
      "[        10       1000     100000   10000000 1000000000]\n"
     ]
    }
   ],
   "source": [
    "a = np.logspace(1,9,num = 5, base = 10, dtype = int,endpoint=True)\n",
    "print(a)"
   ]
  },
  {
   "cell_type": "markdown",
   "metadata": {},
   "source": [
    "### Boolean Indexing \n",
    "    The Boolean values like True & False or 1 & 0 can be used as indexes.  \n",
    "    They can help us filter out the required records. \n",
    "    Conditional operators like \"==\", \"<\", \"<=\", \">\" and \">=\" are applied on arrays to filter out. \n",
    "    Every element in the array is tested."
   ]
  },
  {
   "cell_type": "code",
   "execution_count": 11,
   "metadata": {},
   "outputs": [
    {
     "name": "stdout",
     "output_type": "stream",
     "text": [
      "[[1 2 3]\n",
      " [4 5 6]\n",
      " [7 8 9]]\n"
     ]
    }
   ],
   "source": [
    "arr = np.array([[1,2,3],[4,5,6],[7,8,9]])\n",
    "# arr\n",
    "print(arr)"
   ]
  },
  {
   "cell_type": "code",
   "execution_count": 50,
   "metadata": {},
   "outputs": [
    {
     "data": {
      "text/plain": [
       "array([[False, False, False],\n",
       "       [False,  True,  True],\n",
       "       [ True,  True,  True]])"
      ]
     },
     "execution_count": 50,
     "metadata": {},
     "output_type": "execute_result"
    }
   ],
   "source": [
    "arr  > 4"
   ]
  },
  {
   "cell_type": "code",
   "execution_count": 51,
   "metadata": {},
   "outputs": [
    {
     "name": "stdout",
     "output_type": "stream",
     "text": [
      "[[ True  True  True]\n",
      " [ True False False]\n",
      " [False False False]] <class 'numpy.ndarray'>\n"
     ]
    }
   ],
   "source": [
    "print(~(arr  > 4), type(arr > 4))"
   ]
  },
  {
   "cell_type": "code",
   "execution_count": 55,
   "metadata": {},
   "outputs": [
    {
     "name": "stdout",
     "output_type": "stream",
     "text": [
      "[[False False False]\n",
      " [False  True  True]\n",
      " [ True  True  True]]\n",
      "[5 6 7 8 9] <class 'numpy.ndarray'>\n"
     ]
    }
   ],
   "source": [
    "# Boolean masking \n",
    "arr = np.array([[1,2,3],[4,5,6],[7,8,9]])\n",
    "\n",
    "# arr1 = arr[arr > 4] \n",
    "# print(arr1,type(arr1))\n",
    "\n",
    "\n",
    "ar42 = arr > 4\n",
    "print(ar42)\n",
    "arr1 = arr[ar42] \n",
    "print(arr1,type(arr1))"
   ]
  },
  {
   "cell_type": "code",
   "execution_count": 13,
   "metadata": {},
   "outputs": [
    {
     "name": "stdout",
     "output_type": "stream",
     "text": [
      "[[1 2 3]\n",
      " [4 5 6]\n",
      " [7 8 9]]\n",
      "[[ 1 45  3]\n",
      " [45  5 45]\n",
      " [ 7 45  9]]\n"
     ]
    }
   ],
   "source": [
    "# Manipulation of data with boolean masking\n",
    "arr = np.array([[1,2,3],[4,5,6],[7,8,9]])\n",
    "print(arr)\n",
    "# ar42 = ((arr % 2) == 0)\n",
    "# arr[ar42] = 33\n",
    "arr[arr % 2 == 0] = 45\n",
    "print(arr)"
   ]
  },
  {
   "cell_type": "code",
   "execution_count": 27,
   "metadata": {},
   "outputs": [
    {
     "name": "stdout",
     "output_type": "stream",
     "text": [
      "[[17  9  2  7  4  3  3 11 16  1]\n",
      " [17  4  7  1  3 19 12  4 10  6]\n",
      " [16 16  4 12 17 10 12  9 15  7]\n",
      " [ 4  3  5 10 19  9 15  8 17  5]\n",
      " [16 15 18 14 19  4  8  1  5 12]\n",
      " [17 14 16  5 18 15  7 13 18 16]\n",
      " [ 3 16 10 15  4 13 12 10 17  1]\n",
      " [ 5 13 16 13  8 16  5 17 19  2]\n",
      " [18  6 12  4 18 13 15 12 16 19]\n",
      " [ 2 13 15 16 16 10 10 14  2 15]\n",
      " [11  7  2 13  9  8 15  4  9  2]\n",
      " [ 9  9  2  6  7 11  4  9  1 18]\n",
      " [ 1 11  5  5 14 18  7 13 18  6]\n",
      " [ 4  6  5 15  3  1  6  5  2  8]\n",
      " [15 14  8 10 15  9 10 19 17  5]\n",
      " [18 19 16  4  5  3 19 16 10 11]\n",
      " [12 10 17 11  7  6  3 16  3 10]\n",
      " [18  8 15  4  1  2 19 10 14 17]\n",
      " [16  1  5 19 13 13  5  6  6  1]\n",
      " [ 2  7 12 16 13  6 12  2 17 17]]\n"
     ]
    }
   ],
   "source": [
    "arr2 = np.random.randint(1,20,(20,10))\n",
    "print(arr2)"
   ]
  },
  {
   "cell_type": "code",
   "execution_count": 28,
   "metadata": {},
   "outputs": [
    {
     "name": "stdout",
     "output_type": "stream",
     "text": [
      "[17 16 17 19 16 16 17 19 17 16 18 19 17 16 18 18 16 16 17 16 16 17 19 18\n",
      " 18 16 19 16 16 18 18 18 19 17 18 19 16 19 16 17 16 18 19 17 16 19 16 17\n",
      " 17]\n"
     ]
    }
   ],
   "source": [
    "arr4= arr2[arr2 > 15]\n",
    "print(arr4)"
   ]
  },
  {
   "cell_type": "code",
   "execution_count": 29,
   "metadata": {},
   "outputs": [
    {
     "name": "stdout",
     "output_type": "stream",
     "text": [
      "[[ True False False False False False False False  True False]\n",
      " [ True False False False False  True False False False False]\n",
      " [ True  True False False  True False False False False False]\n",
      " [False False False False  True False False False  True False]\n",
      " [ True False  True False  True False False False False False]\n",
      " [ True False  True False  True False False False  True  True]\n",
      " [False  True False False False False False False  True False]\n",
      " [False False  True False False  True False  True  True False]\n",
      " [ True False False False  True False False False  True  True]\n",
      " [False False False  True  True False False False False False]\n",
      " [False False False False False False False False False False]\n",
      " [False False False False False False False False False  True]\n",
      " [False False False False False  True False False  True False]\n",
      " [False False False False False False False False False False]\n",
      " [False False False False False False False  True  True False]\n",
      " [ True  True  True False False False  True  True False False]\n",
      " [False False  True False False False False  True False False]\n",
      " [ True False False False False False  True False False  True]\n",
      " [ True False False  True False False False False False False]\n",
      " [False False False  True False False False False  True  True]]\n"
     ]
    }
   ],
   "source": [
    "arr3 = arr2 > 15\n",
    "print(arr3)"
   ]
  },
  {
   "cell_type": "code",
   "execution_count": 30,
   "metadata": {},
   "outputs": [
    {
     "name": "stdout",
     "output_type": "stream",
     "text": [
      "[[1 0 0 0 0 0 0 0 1 0]\n",
      " [1 0 0 0 0 1 0 0 0 0]\n",
      " [1 1 0 0 1 0 0 0 0 0]\n",
      " [0 0 0 0 1 0 0 0 1 0]\n",
      " [1 0 1 0 1 0 0 0 0 0]\n",
      " [1 0 1 0 1 0 0 0 1 1]\n",
      " [0 1 0 0 0 0 0 0 1 0]\n",
      " [0 0 1 0 0 1 0 1 1 0]\n",
      " [1 0 0 0 1 0 0 0 1 1]\n",
      " [0 0 0 1 1 0 0 0 0 0]\n",
      " [0 0 0 0 0 0 0 0 0 0]\n",
      " [0 0 0 0 0 0 0 0 0 1]\n",
      " [0 0 0 0 0 1 0 0 1 0]\n",
      " [0 0 0 0 0 0 0 0 0 0]\n",
      " [0 0 0 0 0 0 0 1 1 0]\n",
      " [1 1 1 0 0 0 1 1 0 0]\n",
      " [0 0 1 0 0 0 0 1 0 0]\n",
      " [1 0 0 0 0 0 1 0 0 1]\n",
      " [1 0 0 1 0 0 0 0 0 0]\n",
      " [0 0 0 1 0 0 0 0 1 1]]\n"
     ]
    }
   ],
   "source": [
    "arr3 = arr2 > 15\n",
    "print(arr3.astype(np.int))"
   ]
  },
  {
   "cell_type": "code",
   "execution_count": 31,
   "metadata": {},
   "outputs": [
    {
     "name": "stdout",
     "output_type": "stream",
     "text": [
      "[[17 15  2  7  4  3  3 15 16  1]\n",
      " [17 15  7  1  3 19 12 15 10  6]\n",
      " [16 15  4 12 17 10 12 15 15  7]\n",
      " [ 4 15  5 10 19  9 15 15 17  5]\n",
      " [16 15 18 14 19  4  8 15  5 12]\n",
      " [17 15 16  5 18 15  7 15 18 16]\n",
      " [ 3 15 10 15  4 13 12 15 17  1]\n",
      " [ 5 15 16 13  8 16  5 15 19  2]\n",
      " [18 15 12  4 18 13 15 15 16 19]\n",
      " [ 2 15 15 16 16 10 10 15  2 15]\n",
      " [11 15  2 13  9  8 15 15  9  2]\n",
      " [ 9 15  2  6  7 11  4 15  1 18]\n",
      " [ 1 15  5  5 14 18  7 15 18  6]\n",
      " [ 4 15  5 15  3  1  6 15  2  8]\n",
      " [15 15  8 10 15  9 10 15 17  5]\n",
      " [18 15 16  4  5  3 19 15 10 11]\n",
      " [12 15 17 11  7  6  3 15  3 10]\n",
      " [18 15 15  4  1  2 19 15 14 17]\n",
      " [16 15  5 19 13 13  5 15  6  1]\n",
      " [ 2 15 12 16 13  6 12 15 17 17]]\n"
     ]
    }
   ],
   "source": [
    "arr2[:,[1,7]] = 15\n",
    "# arr2[[2,8],:] = 17\n",
    "print(arr2)"
   ]
  },
  {
   "cell_type": "code",
   "execution_count": 32,
   "metadata": {},
   "outputs": [
    {
     "name": "stdout",
     "output_type": "stream",
     "text": [
      "[[1 0 0 0 0 0 0 0 1 0]\n",
      " [1 0 0 0 0 1 0 0 0 0]\n",
      " [1 0 0 0 1 0 0 0 0 0]\n",
      " [0 0 0 0 1 0 0 0 1 0]\n",
      " [1 0 1 0 1 0 0 0 0 0]\n",
      " [1 0 1 0 1 0 0 0 1 1]\n",
      " [0 0 0 0 0 0 0 0 1 0]\n",
      " [0 0 1 0 0 1 0 0 1 0]\n",
      " [1 0 0 0 1 0 0 0 1 1]\n",
      " [0 0 0 1 1 0 0 0 0 0]\n",
      " [0 0 0 0 0 0 0 0 0 0]\n",
      " [0 0 0 0 0 0 0 0 0 1]\n",
      " [0 0 0 0 0 1 0 0 1 0]\n",
      " [0 0 0 0 0 0 0 0 0 0]\n",
      " [0 0 0 0 0 0 0 0 1 0]\n",
      " [1 0 1 0 0 0 1 0 0 0]\n",
      " [0 0 1 0 0 0 0 0 0 0]\n",
      " [1 0 0 0 0 0 1 0 0 1]\n",
      " [1 0 0 1 0 0 0 0 0 0]\n",
      " [0 0 0 1 0 0 0 0 1 1]]\n"
     ]
    }
   ],
   "source": [
    "arr3 = arr2 > 15\n",
    "print(arr3.astype(np.int))"
   ]
  },
  {
   "cell_type": "markdown",
   "metadata": {},
   "source": [
    "## np.any"
   ]
  },
  {
   "cell_type": "code",
   "execution_count": 35,
   "metadata": {},
   "outputs": [
    {
     "data": {
      "text/plain": [
       "True"
      ]
     },
     "execution_count": 35,
     "metadata": {},
     "output_type": "execute_result"
    }
   ],
   "source": [
    "np.any(arr2 > 18)  # does the entire array have atleast one or more value(s) greater than 15 (in any column or row)"
   ]
  },
  {
   "cell_type": "code",
   "execution_count": 18,
   "metadata": {},
   "outputs": [
    {
     "data": {
      "text/plain": [
       "False"
      ]
     },
     "execution_count": 18,
     "metadata": {},
     "output_type": "execute_result"
    }
   ],
   "source": [
    "np.any(arr2 > 19)"
   ]
  },
  {
   "cell_type": "code",
   "execution_count": 36,
   "metadata": {},
   "outputs": [
    {
     "name": "stdout",
     "output_type": "stream",
     "text": [
      "[[17 15  2  7  4  3  3 15 16  1]\n",
      " [17 15  7  1  3 19 12 15 10  6]\n",
      " [16 15  4 12 17 10 12 15 15  7]\n",
      " [ 4 15  5 10 19  9 15 15 17  5]\n",
      " [16 15 18 14 19  4  8 15  5 12]\n",
      " [17 15 16  5 18 15  7 15 18 16]\n",
      " [ 3 15 10 15  4 13 12 15 17  1]\n",
      " [ 5 15 16 13  8 16  5 15 19  2]\n",
      " [18 15 12  4 18 13 15 15 16 19]\n",
      " [ 2 15 15 16 16 10 10 15  2 15]\n",
      " [11 15  2 13  9  8 15 15  9  2]\n",
      " [ 9 15  2  6  7 11  4 15  1 18]\n",
      " [ 1 15  5  5 14 18  7 15 18  6]\n",
      " [ 4 15  5 15  3  1  6 15  2  8]\n",
      " [15 15  8 10 15  9 10 15 17  5]\n",
      " [18 15 16  4  5  3 19 15 10 11]\n",
      " [12 15 17 11  7  6  3 15  3 10]\n",
      " [18 15 15  4  1  2 19 15 14 17]\n",
      " [16 15  5 19 13 13  5 15  6  1]\n",
      " [ 2 15 12 16 13  6 12 15 17 17]]\n"
     ]
    }
   ],
   "source": [
    "print(arr2)"
   ]
  },
  {
   "cell_type": "code",
   "execution_count": 40,
   "metadata": {},
   "outputs": [
    {
     "data": {
      "text/plain": [
       "array([ True, False,  True,  True,  True,  True,  True, False,  True,\n",
       "        True])"
      ]
     },
     "execution_count": 40,
     "metadata": {},
     "output_type": "execute_result"
    }
   ],
   "source": [
    "np.any(arr2 > 15, axis =0) # list down the columns in which atleast one element is > 15 "
   ]
  },
  {
   "cell_type": "code",
   "execution_count": 20,
   "metadata": {},
   "outputs": [
    {
     "data": {
      "text/plain": [
       "array([[11, 15,  1,  8,  1,  3,  8,  7],\n",
       "       [ 6, 10,  1,  6, 19,  8, 15,  7],\n",
       "       [ 6, 14, 13,  6,  7, 12,  4, 14],\n",
       "       [ 9, 17, 19, 15,  1,  1, 15, 18],\n",
       "       [ 6, 12,  4,  5, 15, 16,  5,  6],\n",
       "       [ 7,  6,  6,  4,  8,  5, 11, 19],\n",
       "       [ 2, 11,  1,  9, 17, 12,  1,  5],\n",
       "       [14, 18, 12, 12,  8,  8, 16,  3],\n",
       "       [19,  8,  4,  3, 18,  9, 11,  4],\n",
       "       [ 8, 18, 12,  3, 15,  3,  3, 13],\n",
       "       [ 1,  1,  3, 10, 15,  1,  3,  7],\n",
       "       [13,  3, 18,  2,  8, 18,  1, 12],\n",
       "       [ 5,  3,  4, 11, 19,  6, 14, 17],\n",
       "       [13,  2, 13, 11,  2,  2,  2,  9],\n",
       "       [17, 12,  9,  5,  6, 10,  1,  8],\n",
       "       [ 7, 10, 18,  4,  3, 16, 15, 10],\n",
       "       [12,  9,  4, 11, 14,  4, 15,  1],\n",
       "       [ 9,  1,  3,  8, 11, 13, 14,  5],\n",
       "       [14,  5,  1, 19, 13, 10, 16,  8],\n",
       "       [17, 14,  8,  2, 16,  7,  7, 19]])"
      ]
     },
     "execution_count": 20,
     "metadata": {},
     "output_type": "execute_result"
    }
   ],
   "source": [
    "arr2[:,np.any(arr2 > 15, axis = 0)] # extract the columns which have the elements > 15"
   ]
  },
  {
   "cell_type": "code",
   "execution_count": 21,
   "metadata": {},
   "outputs": [
    {
     "data": {
      "text/plain": [
       "array([[15, 15],\n",
       "       [15, 15],\n",
       "       [15, 15],\n",
       "       [15, 15],\n",
       "       [15, 15],\n",
       "       [15, 15],\n",
       "       [15, 15],\n",
       "       [15, 15],\n",
       "       [15, 15],\n",
       "       [15, 15],\n",
       "       [15, 15],\n",
       "       [15, 15],\n",
       "       [15, 15],\n",
       "       [15, 15],\n",
       "       [15, 15],\n",
       "       [15, 15],\n",
       "       [15, 15],\n",
       "       [15, 15],\n",
       "       [15, 15],\n",
       "       [15, 15]])"
      ]
     },
     "execution_count": 21,
     "metadata": {},
     "output_type": "execute_result"
    }
   ],
   "source": [
    "arr2[:,~np.any(arr2 > 15, axis = 0)]   # extract the columns which doesn't have the elements > 15"
   ]
  },
  {
   "cell_type": "code",
   "execution_count": 41,
   "metadata": {},
   "outputs": [
    {
     "name": "stdout",
     "output_type": "stream",
     "text": [
      "[[17 15  2  7  4  3  3 15 16  1]\n",
      " [17 15  7  1  3 19 12 15 10  6]\n",
      " [16 15  4 12 17 10 12 15 15  7]\n",
      " [ 4 15  5 10 19  9 15 15 17  5]\n",
      " [16 15 18 14 19  4  8 15  5 12]\n",
      " [17 15 16  5 18 15  7 15 18 16]\n",
      " [ 3 15 10 15  4 13 12 15 17  1]\n",
      " [ 5 15 16 13  8 16  5 15 19  2]\n",
      " [18 15 12  4 18 13 15 15 16 19]\n",
      " [ 2 15 15 16 16 10 10 15  2 15]\n",
      " [11 15  2 13  9  8 15 15  9  2]\n",
      " [ 9 15  2  6  7 11  4 15  1 18]\n",
      " [ 1 15  5  5 14 18  7 15 18  6]\n",
      " [ 4 15  5 15  3  1  6 15  2  8]\n",
      " [15 15  8 10 15  9 10 15 17  5]\n",
      " [18 15 16  4  5  3 19 15 10 11]\n",
      " [12 15 17 11  7  6  3 15  3 10]\n",
      " [18 15 15  4  1  2 19 15 14 17]\n",
      " [16 15  5 19 13 13  5 15  6  1]\n",
      " [ 2 15 12 16 13  6 12 15 17 17]]\n"
     ]
    }
   ],
   "source": [
    "print(arr2)"
   ]
  },
  {
   "cell_type": "code",
   "execution_count": 42,
   "metadata": {},
   "outputs": [
    {
     "data": {
      "text/plain": [
       "array([ True,  True,  True,  True,  True,  True,  True,  True,  True,\n",
       "        True, False,  True,  True, False,  True,  True,  True,  True,\n",
       "        True,  True])"
      ]
     },
     "execution_count": 42,
     "metadata": {},
     "output_type": "execute_result"
    }
   ],
   "source": [
    "np.any(arr2 > 15, axis = 1)   # list down the rows in which atleast one element is > 15"
   ]
  },
  {
   "cell_type": "markdown",
   "metadata": {},
   "source": [
    "## np.where"
   ]
  },
  {
   "cell_type": "code",
   "execution_count": 61,
   "metadata": {},
   "outputs": [
    {
     "name": "stdout",
     "output_type": "stream",
     "text": [
      "[[11 15 15  1  8  1  3 15  8  7]\n",
      " [ 6 15 10  1  6 19  8 15 15  7]\n",
      " [ 6 15 14 13  6  7 12 15  4 14]\n",
      " [ 9 15 17 19 15  1  1 15 15 18]\n",
      " [ 6 15 12  4  5 15 16 15  5  6]\n",
      " [ 7 15  6  6  4  8  5 15 11 19]\n",
      " [ 2 15 11  1  9 17 12 15  1  5]\n",
      " [14 15 18 12 12  8  8 15 16  3]\n",
      " [19 15  8  4  3 18  9 15 11  4]\n",
      " [ 8 15 18 12  3 15  3 15  3 13]\n",
      " [ 1 15  1  3 10 15  1 15  3  7]\n",
      " [13 15  3 18  2  8 18 15  1 12]\n",
      " [ 5 15  3  4 11 19  6 15 14 17]\n",
      " [13 15  2 13 11  2  2 15  2  9]\n",
      " [17 15 12  9  5  6 10 15  1  8]\n",
      " [ 7 15 10 18  4  3 16 15 15 10]\n",
      " [12 15  9  4 11 14  4 15 15  1]\n",
      " [ 9 15  1  3  8 11 13 15 14  5]\n",
      " [14 15  5  1 19 13 10 15 16  8]\n",
      " [17 15 14  8  2 16  7 15  7 19]]\n"
     ]
    }
   ],
   "source": [
    "print(arr2)"
   ]
  },
  {
   "cell_type": "code",
   "execution_count": 25,
   "metadata": {},
   "outputs": [
    {
     "name": "stdout",
     "output_type": "stream",
     "text": [
      "(array([ 1,  3,  4,  5,  6,  7,  8,  9, 11, 12, 14, 15, 18, 19],\n",
      "      dtype=int64),)\n"
     ]
    }
   ],
   "source": [
    "# using np.where and np.any accessing the indices from the array where a condition applied is satisfied...\n",
    "# i.e. here list of array rows where the at least one element in the row is > 15\n",
    "result = np.where(np.any(arr2 > 15, axis = 1))\n",
    "print(result)"
   ]
  },
  {
   "cell_type": "code",
   "execution_count": 98,
   "metadata": {},
   "outputs": [
    {
     "name": "stdout",
     "output_type": "stream",
     "text": [
      "(array([ 4,  7, 15, 18, 19], dtype=int64),) <class 'tuple'>\n",
      "(array([5, 6, 8], dtype=int64),) <class 'tuple'>\n",
      "arr2[ 4 , 5 ] =  15\n",
      "arr2[ 4 , 6 ] =  16\n",
      "arr2[ 4 , 8 ] =  5\n",
      "\n",
      "\n",
      "arr2[ 7 , 5 ] =  8\n",
      "arr2[ 7 , 6 ] =  8\n",
      "arr2[ 7 , 8 ] =  16\n",
      "\n",
      "\n",
      "arr2[ 15 , 5 ] =  3\n",
      "arr2[ 15 , 6 ] =  16\n",
      "arr2[ 15 , 8 ] =  15\n",
      "\n",
      "\n",
      "arr2[ 18 , 5 ] =  13\n",
      "arr2[ 18 , 6 ] =  10\n",
      "arr2[ 18 , 8 ] =  16\n",
      "\n",
      "\n",
      "arr2[ 19 , 5 ] =  16\n",
      "arr2[ 19 , 6 ] =  7\n",
      "arr2[ 19 , 8 ] =  7\n",
      "\n",
      "\n"
     ]
    }
   ],
   "source": [
    "rows = np.where(np.any(arr2 == 16,axis = 1))\n",
    "print(rows,type(rows))\n",
    "\n",
    "cols = np.where(np.any(arr2 ==16,axis=0))\n",
    "print(cols,type(cols))\n",
    "\n",
    "# x = np.array(rows)\n",
    "# y = np.array(cols)\n",
    "# print(x)\n",
    "# print(x[0,1])\n",
    "# print(y)\n",
    "# print(y.shape)\n",
    "# print(\"=====\")\n",
    "for i in range(len(rows[0])):\n",
    "    for j in range(len(cols[0])):\n",
    "        print(\"arr2[\",rows[0][i],\",\",cols[0][j],\"] = \", arr2[rows[0][i],cols[0][j]])\n",
    "    print(\"\\n\")"
   ]
  },
  {
   "cell_type": "code",
   "execution_count": 38,
   "metadata": {},
   "outputs": [
    {
     "data": {
      "text/plain": [
       "array([[ 6, 15, 13,  3, 18, 13, 16, 15,  6, 19],\n",
       "       [12, 15,  7,  6, 17,  8, 14, 15, 11, 14],\n",
       "       [ 9, 15,  7, 19, 11, 11, 16, 15, 11,  7],\n",
       "       [15, 15, 12,  7, 14,  9, 16, 15,  1,  7],\n",
       "       [ 8, 15, 19, 14, 13, 13,  7, 15,  2,  5],\n",
       "       [ 3, 15,  4, 17,  2, 15, 16, 15,  5, 10],\n",
       "       [ 3, 15,  7,  6, 17, 10, 17, 15, 10, 16],\n",
       "       [14, 15,  3, 11, 19, 16,  3, 15, 15, 10],\n",
       "       [ 1, 15, 18, 10,  4,  8, 12, 15, 11, 13],\n",
       "       [ 8, 15, 18,  2, 15, 16, 12, 15,  9,  5],\n",
       "       [ 1, 15,  7, 16, 16, 18,  9, 15,  6,  7],\n",
       "       [19, 15, 14,  9, 15,  7, 12, 15, 14,  7],\n",
       "       [11, 15, 11,  4, 15, 17,  3, 15, 10, 15],\n",
       "       [16, 15, 17, 16, 14, 18,  4, 15,  2, 18],\n",
       "       [16, 15, 16,  3, 16,  8,  1, 15, 12, 12],\n",
       "       [ 6, 15, 11, 16, 18,  9,  5, 15, 13,  1]])"
      ]
     },
     "execution_count": 38,
     "metadata": {},
     "output_type": "execute_result"
    }
   ],
   "source": [
    "arr2[np.any(arr2 > 15, axis = 1),:]  # extract the rows which have the elements > 15"
   ]
  },
  {
   "cell_type": "code",
   "execution_count": 29,
   "metadata": {},
   "outputs": [
    {
     "data": {
      "text/plain": [
       "array([[ 2, 15,  5,  6,  7,  8,  3, 15,  2, 15],\n",
       "       [ 2, 15,  4,  8,  5, 10,  8, 15,  8, 13],\n",
       "       [ 5, 15, 14,  8, 11, 13,  1, 15,  8, 10],\n",
       "       [12, 15,  2, 13,  5,  6, 14, 15,  6,  7]])"
      ]
     },
     "execution_count": 29,
     "metadata": {},
     "output_type": "execute_result"
    }
   ],
   "source": [
    "arr2[~np.any(arr2 > 15, axis = 1),:]   # extract the rows which doesn't have the elements > 15"
   ]
  },
  {
   "cell_type": "markdown",
   "metadata": {},
   "source": [
    "## np.all"
   ]
  },
  {
   "cell_type": "code",
   "execution_count": 58,
   "metadata": {},
   "outputs": [
    {
     "data": {
      "text/plain": [
       "False"
      ]
     },
     "execution_count": 58,
     "metadata": {},
     "output_type": "execute_result"
    }
   ],
   "source": [
    "np.all(arr2 > 15)  # does the entire array have value(s) greater than 15 (in any column or row)"
   ]
  },
  {
   "cell_type": "code",
   "execution_count": 63,
   "metadata": {},
   "outputs": [
    {
     "data": {
      "text/plain": [
       "array([False,  True, False, False, False, False, False,  True, False,\n",
       "       False])"
      ]
     },
     "execution_count": 63,
     "metadata": {},
     "output_type": "execute_result"
    }
   ],
   "source": [
    "np.all(arr2 >= 15, axis=0)"
   ]
  },
  {
   "cell_type": "code",
   "execution_count": 64,
   "metadata": {},
   "outputs": [
    {
     "data": {
      "text/plain": [
       "array([False,  True,  True,  True, False, False, False,  True,  True,\n",
       "       False, False, False, False, False,  True,  True, False, False,\n",
       "       False, False])"
      ]
     },
     "execution_count": 64,
     "metadata": {},
     "output_type": "execute_result"
    }
   ],
   "source": [
    "np.all(arr2 > 2,axis=1)"
   ]
  },
  {
   "cell_type": "code",
   "execution_count": 69,
   "metadata": {},
   "outputs": [
    {
     "data": {
      "text/plain": [
       "array([[15,  5,  6,  7,  8, 15],\n",
       "       [15, 13,  3, 18, 13, 15],\n",
       "       [15,  7,  6, 17,  8, 15],\n",
       "       [15,  7, 19, 11, 11, 15],\n",
       "       [15, 12,  7, 14,  9, 15],\n",
       "       [15, 19, 14, 13, 13, 15],\n",
       "       [15,  4, 17,  2, 15, 15],\n",
       "       [15,  7,  6, 17, 10, 15],\n",
       "       [15,  3, 11, 19, 16, 15],\n",
       "       [15, 18, 10,  4,  8, 15],\n",
       "       [15,  4,  8,  5, 10, 15],\n",
       "       [15, 18,  2, 15, 16, 15],\n",
       "       [15, 14,  8, 11, 13, 15],\n",
       "       [15,  7, 16, 16, 18, 15],\n",
       "       [15, 14,  9, 15,  7, 15],\n",
       "       [15, 11,  4, 15, 17, 15],\n",
       "       [15, 17, 16, 14, 18, 15],\n",
       "       [15, 16,  3, 16,  8, 15],\n",
       "       [15, 11, 16, 18,  9, 15],\n",
       "       [15,  2, 13,  5,  6, 15]])"
      ]
     },
     "execution_count": 69,
     "metadata": {},
     "output_type": "execute_result"
    }
   ],
   "source": [
    "arr2[:,np.all(arr2 >= 2, axis = 0)]   # extract the columns which have all the elements >= 2"
   ]
  },
  {
   "cell_type": "code",
   "execution_count": 65,
   "metadata": {},
   "outputs": [
    {
     "name": "stdout",
     "output_type": "stream",
     "text": [
      "(array([ 1,  2,  3,  7,  8, 14, 15], dtype=int64),)\n"
     ]
    }
   ],
   "source": [
    "result1 = np.where(np.all(arr2 > 2,axis=1))\n",
    "print(result1)"
   ]
  },
  {
   "cell_type": "markdown",
   "metadata": {},
   "source": [
    "## Does *np.any* and *np.all* works on string arrays ?"
   ]
  },
  {
   "cell_type": "code",
   "execution_count": 54,
   "metadata": {},
   "outputs": [
    {
     "name": "stdout",
     "output_type": "stream",
     "text": [
      "[['p' 't' 'abc']\n",
      " ['r' 're' 'i']\n",
      " ['r' 't' 'y']]\n"
     ]
    }
   ],
   "source": [
    "arr5 = np.array([['p','t','abc'],['r','re','i'],['r','t','y']])\n",
    "print(arr5)"
   ]
  },
  {
   "cell_type": "code",
   "execution_count": 55,
   "metadata": {},
   "outputs": [
    {
     "data": {
      "text/plain": [
       "array([[False,  True, False],\n",
       "       [False, False, False],\n",
       "       [False,  True, False]])"
      ]
     },
     "execution_count": 55,
     "metadata": {},
     "output_type": "execute_result"
    }
   ],
   "source": [
    "arr5 == 't'"
   ]
  },
  {
   "cell_type": "code",
   "execution_count": 56,
   "metadata": {},
   "outputs": [
    {
     "data": {
      "text/plain": [
       "array([[False, False,  True],\n",
       "       [False, False, False],\n",
       "       [False, False, False]])"
      ]
     },
     "execution_count": 56,
     "metadata": {},
     "output_type": "execute_result"
    }
   ],
   "source": [
    "arr5 == 'abc'"
   ]
  },
  {
   "cell_type": "code",
   "execution_count": 70,
   "metadata": {},
   "outputs": [
    {
     "data": {
      "text/plain": [
       "True"
      ]
     },
     "execution_count": 70,
     "metadata": {},
     "output_type": "execute_result"
    }
   ],
   "source": [
    "np.any(arr5 == 'abc')"
   ]
  },
  {
   "cell_type": "code",
   "execution_count": 71,
   "metadata": {},
   "outputs": [
    {
     "data": {
      "text/plain": [
       "array([False, False,  True])"
      ]
     },
     "execution_count": 71,
     "metadata": {},
     "output_type": "execute_result"
    }
   ],
   "source": [
    "np.any(arr5 == 'abc',axis=0)"
   ]
  },
  {
   "cell_type": "code",
   "execution_count": 57,
   "metadata": {},
   "outputs": [
    {
     "data": {
      "text/plain": [
       "array([[False,  True, False],\n",
       "       [ True,  True, False],\n",
       "       [ True,  True,  True]])"
      ]
     },
     "execution_count": 57,
     "metadata": {},
     "output_type": "execute_result"
    }
   ],
   "source": [
    "arr5 > 'p'"
   ]
  },
  {
   "cell_type": "code",
   "execution_count": 74,
   "metadata": {},
   "outputs": [
    {
     "data": {
      "text/plain": [
       "array([False,  True, False])"
      ]
     },
     "execution_count": 74,
     "metadata": {},
     "output_type": "execute_result"
    }
   ],
   "source": [
    "np.all(arr5 > 'p',axis=0) # column with strings greater than 'p'"
   ]
  },
  {
   "cell_type": "markdown",
   "metadata": {},
   "source": [
    "## Numpy 3d-Array Indexing"
   ]
  },
  {
   "cell_type": "code",
   "execution_count": 77,
   "metadata": {},
   "outputs": [
    {
     "name": "stdout",
     "output_type": "stream",
     "text": [
      "[[[ 1  2  3]\n",
      "  [ 4  5  6]\n",
      "  [ 7  8  9]]\n",
      "\n",
      " [[10 11 12]\n",
      "  [13 14 15]\n",
      "  [16 17 18]]\n",
      "\n",
      " [[19 20 21]\n",
      "  [22 23 24]\n",
      "  [25 26 27]]]\n"
     ]
    }
   ],
   "source": [
    "ar = np.arange(1,28).reshape(3,3,3)\n",
    "print(ar)"
   ]
  },
  {
   "attachments": {
    "image.png": {
     "image/png": "[encoded data removed]"
    }
   },
   "cell_type": "markdown",
   "metadata": {},
   "source": [
    "# ![image.png](attachment:image.png)"
   ]
  },
  {
   "cell_type": "markdown",
   "metadata": {},
   "source": [
    "### Passing single Argument, \n",
    "- Always the single argument refers to dimension with all rows and columns"
   ]
  },
  {
   "cell_type": "code",
   "execution_count": 78,
   "metadata": {},
   "outputs": [
    {
     "data": {
      "text/plain": [
       "array([[1, 2, 3],\n",
       "       [4, 5, 6],\n",
       "       [7, 8, 9]])"
      ]
     },
     "execution_count": 78,
     "metadata": {},
     "output_type": "execute_result"
    }
   ],
   "source": [
    "# Access the 0th Index Array\n",
    "ar[0]  # Default value will be taken as dimention with all rows and columns, hence the 0th indexed array"
   ]
  },
  {
   "cell_type": "code",
   "execution_count": 79,
   "metadata": {},
   "outputs": [
    {
     "data": {
      "text/plain": [
       "array([[10, 11, 12],\n",
       "       [13, 14, 15],\n",
       "       [16, 17, 18]])"
      ]
     },
     "execution_count": 79,
     "metadata": {},
     "output_type": "execute_result"
    }
   ],
   "source": [
    "# Access the 1st Indexed Array\n",
    "ar[1]"
   ]
  },
  {
   "cell_type": "markdown",
   "metadata": {},
   "source": [
    "### Still Single Argument with Range"
   ]
  },
  {
   "cell_type": "code",
   "execution_count": 80,
   "metadata": {},
   "outputs": [
    {
     "data": {
      "text/plain": [
       "array([[[ 1,  2,  3],\n",
       "        [ 4,  5,  6],\n",
       "        [ 7,  8,  9]],\n",
       "\n",
       "       [[10, 11, 12],\n",
       "        [13, 14, 15],\n",
       "        [16, 17, 18]]])"
      ]
     },
     "execution_count": 80,
     "metadata": {},
     "output_type": "execute_result"
    }
   ],
   "source": [
    "# Access the first 2 Arrays\n",
    "ar[0:2]"
   ]
  },
  {
   "cell_type": "code",
   "execution_count": 81,
   "metadata": {},
   "outputs": [
    {
     "data": {
      "text/plain": [
       "array([[[ 1,  2,  3],\n",
       "        [ 4,  5,  6],\n",
       "        [ 7,  8,  9]],\n",
       "\n",
       "       [[10, 11, 12],\n",
       "        [13, 14, 15],\n",
       "        [16, 17, 18]],\n",
       "\n",
       "       [[19, 20, 21],\n",
       "        [22, 23, 24],\n",
       "        [25, 26, 27]]])"
      ]
     },
     "execution_count": 81,
     "metadata": {},
     "output_type": "execute_result"
    }
   ],
   "source": [
    "ar[:]"
   ]
  },
  {
   "cell_type": "code",
   "execution_count": 82,
   "metadata": {},
   "outputs": [
    {
     "data": {
      "text/plain": [
       "array([[[ 1,  2,  3],\n",
       "        [ 4,  5,  6],\n",
       "        [ 7,  8,  9]],\n",
       "\n",
       "       [[19, 20, 21],\n",
       "        [22, 23, 24],\n",
       "        [25, 26, 27]]])"
      ]
     },
     "execution_count": 82,
     "metadata": {},
     "output_type": "execute_result"
    }
   ],
   "source": [
    "ar[[0,2]]"
   ]
  },
  {
   "cell_type": "code",
   "execution_count": 89,
   "metadata": {},
   "outputs": [
    {
     "data": {
      "text/plain": [
       "array([[ 4,  5,  6],\n",
       "       [13, 14, 15]])"
      ]
     },
     "execution_count": 89,
     "metadata": {},
     "output_type": "execute_result"
    }
   ],
   "source": [
    "ar[0:2,1] # elements from 0th to 2nd array (excluding the 2nd array), 1st row , all columns"
   ]
  },
  {
   "cell_type": "code",
   "execution_count": 90,
   "metadata": {},
   "outputs": [
    {
     "data": {
      "text/plain": [
       "array([[ 4,  5,  6],\n",
       "       [22, 23, 24]])"
      ]
     },
     "execution_count": 90,
     "metadata": {},
     "output_type": "execute_result"
    }
   ],
   "source": [
    "ar[[0,2],1]   # elements from 0th and 2nd array, 1st row , all columns"
   ]
  },
  {
   "cell_type": "code",
   "execution_count": 91,
   "metadata": {},
   "outputs": [
    {
     "data": {
      "text/plain": [
       "array([[ 4,  5],\n",
       "       [22, 23]])"
      ]
     },
     "execution_count": 91,
     "metadata": {},
     "output_type": "execute_result"
    }
   ],
   "source": [
    "ar[[0,2],1,0:2]    # elements from 0th and 2nd array, 1st row , first two columns"
   ]
  },
  {
   "cell_type": "code",
   "execution_count": null,
   "metadata": {},
   "outputs": [],
   "source": []
  }
 ],
 "metadata": {
  "kernelspec": {
   "display_name": "Python 3",
   "language": "python",
   "name": "python3"
  },
  "language_info": {
   "codemirror_mode": {
    "name": "ipython",
    "version": 3
   },
   "file_extension": ".py",
   "mimetype": "text/x-python",
   "name": "python",
   "nbconvert_exporter": "python",
   "pygments_lexer": "ipython3",
   "version": "3.7.6"
  }
 },
 "nbformat": 4,
 "nbformat_minor": 4
}
